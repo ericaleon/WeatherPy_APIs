{
 "cells": [
  {
   "cell_type": "markdown",
   "metadata": {},
   "source": [
    "# WeatherPy --------Erica - UPDATE THIS before turning in!--------\n",
    "----\n",
    "\n",
    "### Analysis\n",
    "* As expected, the weather becomes significantly warmer as one approaches the equator (0 Deg. Latitude). More interestingly, however, is the fact that the southern hemisphere tends to be warmer this time of year than the northern hemisphere. This may be due to the tilt of the earth.\n",
    "* There is no strong relationship between latitude and cloudiness. However, it is interesting to see that a strong band of cities sits at 0, 80, and 100% cloudiness.\n",
    "* There is no strong relationship between latitude and wind speed. However, in northern hemispheres there is a flurry of cities with over 20 mph of wind.\n",
    "\n"
   ]
  },
  {
   "cell_type": "code",
   "execution_count": 1,
   "metadata": {
    "scrolled": true
   },
   "outputs": [],
   "source": [
    "%matplotlib inline\n",
    "# Dependencies and Setup\n",
    "import matplotlib.pyplot as plt\n",
    "import pandas as pd\n",
    "import numpy as np\n",
    "import requests\n",
    "import time\n",
    "import openweathermapy as ow\n",
    "\n",
    "# Import API key\n",
    "from api_keys import api_key\n",
    "\n",
    "# Incorporated citipy to determine city based on latitude and longitude\n",
    "from citipy import citipy\n",
    "\n",
    "# Output File (CSV)\n",
    "output_data_file = \"output_data/cities.csv\"\n",
    "\n",
    "# Range of latitudes and longitudes\n",
    "lat_range = (-90, 90)\n",
    "lng_range = (-180, 180)"
   ]
  },
  {
   "cell_type": "markdown",
   "metadata": {},
   "source": [
    "## Generate Cities List"
   ]
  },
  {
   "cell_type": "code",
   "execution_count": 2,
   "metadata": {},
   "outputs": [
    {
     "data": {
      "text/plain": [
       "104"
      ]
     },
     "execution_count": 2,
     "metadata": {},
     "output_type": "execute_result"
    }
   ],
   "source": [
    "# List for holding lat_lngs and cities\n",
    "lat_lngs = []\n",
    "cities = []\n",
    "\n",
    "# Create a set of random lat and lng combinations; replace size with 1500\n",
    "lats = np.random.uniform(low=-90.000, high=90.000, size=150)\n",
    "lngs = np.random.uniform(low=-180.000, high=180.000, size=150)\n",
    "lat_lngs = zip(lats, lngs)\n",
    "\n",
    "# Identify nearest city for each lat, lng combination\n",
    "for lat_lng in lat_lngs:\n",
    "    city = citipy.nearest_city(lat_lng[0], lat_lng[1]).city_name\n",
    "    \n",
    "    # If the city is unique, then add it to a our cities list\n",
    "    if city not in cities:\n",
    "        cities.append(city)\n",
    "\n",
    "# Print the city count to confirm sufficient count\n",
    "len(cities)"
   ]
  },
  {
   "cell_type": "code",
   "execution_count": 3,
   "metadata": {},
   "outputs": [
    {
     "name": "stdout",
     "output_type": "stream",
     "text": [
      "['bluff', 'brattvag', 'guerrero negro', 'muroto', 'ushuaia', 'chokurdakh', 'punta arenas', 'tiznit', 'plunge', 'tuktoyaktuk', 'busselton', 'ulaanbaatar', 'lolua', 'westerland', 'zhangye']\n"
     ]
    }
   ],
   "source": [
    "cities15 = cities[0:15]\n",
    "print(cities15)"
   ]
  },
  {
   "cell_type": "markdown",
   "metadata": {},
   "source": [
    "### Perform API Calls\n",
    "* Perform a weather check on each city using a series of successive API calls.\n",
    "* Include a print log of each city as it'sbeing processed (with the city number and city name).\n"
   ]
  },
  {
   "cell_type": "code",
   "execution_count": 4,
   "metadata": {},
   "outputs": [
    {
     "name": "stdout",
     "output_type": "stream",
     "text": [
      "Beginning Data Retrieval\n",
      "-----------------------------\n",
      "Processing record 1 of set 1 | bluff\n",
      "Processing record 2 of set 1 | brattvag\n",
      "Processing record 3 of set 1 | guerrero negro\n",
      "Processing record 4 of set 1 | muroto\n",
      "Processing record 5 of set 1 | ushuaia\n",
      "Processing record 1 of set 2 | chokurdakh\n",
      "Processing record 2 of set 2 | punta arenas\n",
      "Processing record 3 of set 2 | tiznit\n",
      "Processing record 4 of set 2 | plunge\n",
      "Processing record 5 of set 2 | tuktoyaktuk\n",
      "Processing record 1 of set 3 | busselton\n",
      "Processing record 2 of set 3 | ulaanbaatar\n",
      "City not found. Skipping...\n",
      "Processing record 3 of set 3 | westerland\n",
      "Processing record 4 of set 3 | zhangye\n",
      "-----------------------------\n",
      "Data Retrieval Complete\n",
      "-----------------------------\n"
     ]
    }
   ],
   "source": [
    "# Set up lists to populate with data\n",
    "city_names = []\n",
    "cloudiness = []\n",
    "country = []\n",
    "date = []\n",
    "hum = []\n",
    "lat = []\n",
    "lng = []\n",
    "max_temp = []\n",
    "wind_sp = []\n",
    "\n",
    "# create settings dictionary to use in request urls\n",
    "settings = {\"units\":\"imperial\", \"appid\":api_key}\n",
    "\n",
    "# Print start of processing\n",
    "print(\"Beginning Data Retrieval\")\n",
    "print(\"-----------------------------\")\n",
    "\n",
    "# set up counters\n",
    "record_cnt = 1\n",
    "grp = 1\n",
    "\n",
    "# loop to iterate through each city, group into sets of 50, and capture counts\n",
    "for i, city in enumerate(cities15):\n",
    "#     change to 50 later\n",
    "    if (i % 5 == 0 and i >= 5):\n",
    "        grp += 1\n",
    "        record_cnt = 1\n",
    "    \n",
    "    try:\n",
    "#        use api wrapper to get responses for city and print status message\n",
    "        response = ow.get_current(city,**settings)\n",
    "        print(f\"Processing record {record_cnt} of set {grp} | {city}\")\n",
    "        \n",
    "#        add response values to appropriate lists \n",
    "        city_names.append(response['name'])\n",
    "        cloudiness.append(response['clouds']['all'])\n",
    "        country.append(response['sys']['country'])\n",
    "        date.append(response['dt'])\n",
    "        hum.append(response['main']['humidity'])\n",
    "        lat.append(response['coord']['lat'])\n",
    "        lng.append(response['coord']['lon'])\n",
    "        max_temp.append(response['main']['temp_max'])\n",
    "        wind_sp.append(response['wind']['speed'])\n",
    "        \n",
    "        record_cnt += 1\n",
    "        \n",
    "#     skip if error found with current city \n",
    "    except:\n",
    "        print(\"City not found. Skipping...\")\n",
    "    pass\n",
    "    \n",
    "\n",
    "# Print statement to indicate complete\n",
    "print(\"-----------------------------\")\n",
    "print(\"Data Retrieval Complete\")\n",
    "print(\"-----------------------------\")\n"
   ]
  },
  {
   "cell_type": "markdown",
   "metadata": {},
   "source": [
    "### Convert Raw Data to DataFrame\n",
    "* Export the city data into a .csv.\n",
    "* Display the DataFrame"
   ]
  },
  {
   "cell_type": "code",
   "execution_count": 5,
   "metadata": {},
   "outputs": [
    {
     "data": {
      "text/plain": [
       "City          14\n",
       "Cloudiness    14\n",
       "Country       14\n",
       "Date          14\n",
       "Humidity      14\n",
       "Lat           14\n",
       "Lng           14\n",
       "Max Temp      14\n",
       "Wind Speed    14\n",
       "dtype: int64"
      ]
     },
     "execution_count": 5,
     "metadata": {},
     "output_type": "execute_result"
    }
   ],
   "source": [
    "# populate data frame with collected data\n",
    "weather_data = pd.DataFrame({\"City\":city_names, \"Cloudiness\":cloudiness, \"Country\":country,\n",
    "                             \"Date\":date, \"Humidity\":hum, \"Lat\":lat, \"Lng\":lng, \n",
    "                             \"Max Temp\":max_temp, \"Wind Speed\":wind_sp})\n",
    "\n",
    "# check counts for each column\n",
    "weather_data.count()"
   ]
  },
  {
   "cell_type": "code",
   "execution_count": 6,
   "metadata": {},
   "outputs": [
    {
     "data": {
      "text/html": [
       "<div>\n",
       "<style scoped>\n",
       "    .dataframe tbody tr th:only-of-type {\n",
       "        vertical-align: middle;\n",
       "    }\n",
       "\n",
       "    .dataframe tbody tr th {\n",
       "        vertical-align: top;\n",
       "    }\n",
       "\n",
       "    .dataframe thead th {\n",
       "        text-align: right;\n",
       "    }\n",
       "</style>\n",
       "<table border=\"1\" class=\"dataframe\">\n",
       "  <thead>\n",
       "    <tr style=\"text-align: right;\">\n",
       "      <th></th>\n",
       "      <th>City</th>\n",
       "      <th>Cloudiness</th>\n",
       "      <th>Country</th>\n",
       "      <th>Date</th>\n",
       "      <th>Humidity</th>\n",
       "      <th>Lat</th>\n",
       "      <th>Lng</th>\n",
       "      <th>Max Temp</th>\n",
       "      <th>Wind Speed</th>\n",
       "    </tr>\n",
       "  </thead>\n",
       "  <tbody>\n",
       "    <tr>\n",
       "      <th>0</th>\n",
       "      <td>Bluff</td>\n",
       "      <td>0</td>\n",
       "      <td>AU</td>\n",
       "      <td>1551068237</td>\n",
       "      <td>35</td>\n",
       "      <td>-23.58</td>\n",
       "      <td>149.07</td>\n",
       "      <td>90.36</td>\n",
       "      <td>11.77</td>\n",
       "    </tr>\n",
       "    <tr>\n",
       "      <th>1</th>\n",
       "      <td>Brattvag</td>\n",
       "      <td>92</td>\n",
       "      <td>NO</td>\n",
       "      <td>1551066600</td>\n",
       "      <td>75</td>\n",
       "      <td>62.60</td>\n",
       "      <td>6.44</td>\n",
       "      <td>41.00</td>\n",
       "      <td>8.05</td>\n",
       "    </tr>\n",
       "    <tr>\n",
       "      <th>2</th>\n",
       "      <td>Guerrero Negro</td>\n",
       "      <td>0</td>\n",
       "      <td>MX</td>\n",
       "      <td>1551068238</td>\n",
       "      <td>77</td>\n",
       "      <td>27.97</td>\n",
       "      <td>-114.04</td>\n",
       "      <td>55.71</td>\n",
       "      <td>13.11</td>\n",
       "    </tr>\n",
       "    <tr>\n",
       "      <th>3</th>\n",
       "      <td>Muroto</td>\n",
       "      <td>40</td>\n",
       "      <td>JP</td>\n",
       "      <td>1551063600</td>\n",
       "      <td>44</td>\n",
       "      <td>33.37</td>\n",
       "      <td>134.14</td>\n",
       "      <td>60.80</td>\n",
       "      <td>6.93</td>\n",
       "    </tr>\n",
       "    <tr>\n",
       "      <th>4</th>\n",
       "      <td>Ushuaia</td>\n",
       "      <td>75</td>\n",
       "      <td>AR</td>\n",
       "      <td>1551067200</td>\n",
       "      <td>52</td>\n",
       "      <td>-54.81</td>\n",
       "      <td>-68.31</td>\n",
       "      <td>41.00</td>\n",
       "      <td>18.34</td>\n",
       "    </tr>\n",
       "  </tbody>\n",
       "</table>\n",
       "</div>"
      ],
      "text/plain": [
       "             City  Cloudiness Country        Date  Humidity    Lat     Lng  \\\n",
       "0           Bluff           0      AU  1551068237        35 -23.58  149.07   \n",
       "1        Brattvag          92      NO  1551066600        75  62.60    6.44   \n",
       "2  Guerrero Negro           0      MX  1551068238        77  27.97 -114.04   \n",
       "3          Muroto          40      JP  1551063600        44  33.37  134.14   \n",
       "4         Ushuaia          75      AR  1551067200        52 -54.81  -68.31   \n",
       "\n",
       "   Max Temp  Wind Speed  \n",
       "0     90.36       11.77  \n",
       "1     41.00        8.05  \n",
       "2     55.71       13.11  \n",
       "3     60.80        6.93  \n",
       "4     41.00       18.34  "
      ]
     },
     "execution_count": 6,
     "metadata": {},
     "output_type": "execute_result"
    }
   ],
   "source": [
    "# save data frame to CSV\n",
    "weather_data.to_csv(output_data_file, encoding=\"utf-8\", index=False)\n",
    "\n",
    "# display data frame\n",
    "weather_data.head()"
   ]
  },
  {
   "cell_type": "markdown",
   "metadata": {},
   "source": [
    "### Plotting the Data\n",
    "* Use proper labeling of the plots using plot titles (including date of analysis) and axes labels.\n",
    "* Save the plotted figures as .pngs."
   ]
  },
  {
   "cell_type": "markdown",
   "metadata": {},
   "source": [
    "#### Latitude vs. Temperature Plot"
   ]
  },
  {
   "cell_type": "markdown",
   "metadata": {},
   "source": [
    "## figure out ADD CURRENT DATE to include in plot titles"
   ]
  },
  {
   "cell_type": "code",
   "execution_count": 11,
   "metadata": {},
   "outputs": [
    {
     "data": {
      "image/png": "[encoded data removed]",
      "text/plain": [
       "<Figure size 432x288 with 1 Axes>"
      ]
     },
     "metadata": {
      "needs_background": "light"
     },
     "output_type": "display_data"
    }
   ],
   "source": [
    "# create scatter plot for latitude and max temperature\n",
    "plt.scatter(weather_data['Lat'], \n",
    "            weather_data['Max Temp'],\n",
    "            marker = 'o',\n",
    "            s = 40,\n",
    "            c = 'steelblue',\n",
    "            edgecolors = 'black'\n",
    "           )\n",
    "\n",
    "# set up labels and add grid\n",
    "plt.title(f\"City Latitude vs. Max Temperature\")\n",
    "plt.xlabel(\"Latitude\")\n",
    "plt.ylabel(\"Max Temperature (F)\")\n",
    "plt.grid()\n",
    "plt.tight_layout()\n",
    "\n",
    "# save to file\n",
    "plt.savefig(\"output_data/Lat_vs_Temp.png\")\n",
    "\n",
    "# display plot\n",
    "plt.show()"
   ]
  },
  {
   "cell_type": "markdown",
   "metadata": {},
   "source": [
    "#### Latitude vs. Humidity Plot"
   ]
  },
  {
   "cell_type": "code",
   "execution_count": 12,
   "metadata": {},
   "outputs": [
    {
     "data": {
      "image/png": "[encoded data removed]",
      "text/plain": [
       "<Figure size 432x288 with 1 Axes>"
      ]
     },
     "metadata": {
      "needs_background": "light"
     },
     "output_type": "display_data"
    }
   ],
   "source": [
    "# create scatter plot for latitude and humidity\n",
    "plt.scatter(weather_data['Lat'], \n",
    "            weather_data['Humidity'],\n",
    "            marker = 'o',\n",
    "            s = 40,\n",
    "            c = 'steelblue',\n",
    "            edgecolors = 'black',\n",
    "           )\n",
    "\n",
    "# set up labels and add grid\n",
    "plt.title(\"City Latitude vs. Humidity\")\n",
    "plt.xlabel(\"Latitude\")\n",
    "plt.ylabel(\"Humidity (%)\")\n",
    "plt.grid()\n",
    "\n",
    "# save to file\n",
    "plt.savefig(\"output_data/Lat_vs_Humidity.png\")\n",
    "\n",
    "# display plot\n",
    "plt.show()"
   ]
  },
  {
   "cell_type": "markdown",
   "metadata": {},
   "source": [
    "#### Latitude vs. Cloudiness Plot"
   ]
  },
  {
   "cell_type": "code",
   "execution_count": 13,
   "metadata": {},
   "outputs": [
    {
     "data": {
      "image/png": "[encoded data removed]",
      "text/plain": [
       "<Figure size 432x288 with 1 Axes>"
      ]
     },
     "metadata": {
      "needs_background": "light"
     },
     "output_type": "display_data"
    }
   ],
   "source": [
    "# create scatter plot for latitude and cloudiness\n",
    "plt.scatter(weather_data['Lat'], \n",
    "            weather_data['Cloudiness'],\n",
    "            marker = 'o',\n",
    "            s = 40,\n",
    "            c = 'steelblue',\n",
    "            edgecolors = 'black',\n",
    "           )\n",
    "\n",
    "# set up labels and add grid\n",
    "plt.title(\"City Latitude vs. Cloudiness\")\n",
    "plt.xlabel(\"Latitude\")\n",
    "plt.ylabel(\"Cloudiness (%)\")\n",
    "plt.grid()\n",
    "\n",
    "\n",
    "# save to file\n",
    "plt.savefig(\"output_data/Lat_vs_Clouds.png\")\n",
    "\n",
    "# display plot\n",
    "plt.show()"
   ]
  },
  {
   "cell_type": "markdown",
   "metadata": {},
   "source": [
    "#### Latitude vs. Wind Speed Plot"
   ]
  },
  {
   "cell_type": "code",
   "execution_count": 14,
   "metadata": {},
   "outputs": [
    {
     "data": {
      "image/png": "[encoded data removed]",
      "text/plain": [
       "<Figure size 432x288 with 1 Axes>"
      ]
     },
     "metadata": {
      "needs_background": "light"
     },
     "output_type": "display_data"
    }
   ],
   "source": [
    "# create scatter plot for latitude and wind speed\n",
    "plt.scatter(weather_data['Lat'], \n",
    "            weather_data['Wind Speed'],\n",
    "            marker = 'o',\n",
    "            s = 40,\n",
    "            c = 'steelblue',\n",
    "            edgecolors = 'black',\n",
    "           )\n",
    "\n",
    "# set up labels and add grid\n",
    "plt.title(\"City Latitude vs. Wind Speed\")\n",
    "plt.xlabel(\"Latitude\")\n",
    "plt.ylabel(\"Wind Speed (mph)\")\n",
    "plt.grid()\n",
    "\n",
    "# save to file\n",
    "plt.savefig(\"output_data/Lat_vs_WindSpeed.png\")\n",
    "\n",
    "# display plot\n",
    "plt.show()"
   ]
  },
  {
   "cell_type": "code",
   "execution_count": null,
   "metadata": {},
   "outputs": [],
   "source": []
  }
 ],
 "metadata": {
  "anaconda-cloud": {},
  "kernelspec": {
   "display_name": "Python 3",
   "language": "python",
   "name": "python3"
  },
  "language_info": {
   "codemirror_mode": {
    "name": "ipython",
    "version": 3
   },
   "file_extension": ".py",
   "mimetype": "text/x-python",
   "name": "python",
   "nbconvert_exporter": "python",
   "pygments_lexer": "ipython3",
   "version": "3.6.7"
  }
 },
 "nbformat": 4,
 "nbformat_minor": 2
}
